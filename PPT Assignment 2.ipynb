{
 "cells": [
  {
   "cell_type": "code",
   "execution_count": 1,
   "id": "0a0d8e6d-7ac4-4d41-b572-e8cd85f694a9",
   "metadata": {},
   "outputs": [],
   "source": [
    "# ans 1 \n",
    "def arrayPairSum(nums):\n",
    "    nums.sort()  \n",
    "    max_sum = 0\n",
    "    for i in range(0, len(nums), 2):\n",
    "        max_sum += nums[i]\n",
    "    return max_sum"
   ]
  },
  {
   "cell_type": "code",
   "execution_count": 2,
   "id": "55ccb954-50b4-4b68-8a1e-bf62ce35e2d7",
   "metadata": {},
   "outputs": [
    {
     "name": "stdout",
     "output_type": "stream",
     "text": [
      "4\n"
     ]
    }
   ],
   "source": [
    "nums = [1, 4, 3, 2]\n",
    "print(arrayPairSum(nums))"
   ]
  },
  {
   "cell_type": "code",
   "execution_count": 5,
   "id": "6f7d9ff0-e1bf-4eea-b4bd-1226695f3c0b",
   "metadata": {},
   "outputs": [
    {
     "name": "stdout",
     "output_type": "stream",
     "text": [
      "3\n"
     ]
    }
   ],
   "source": [
    "# ans 2\n",
    "def maxCandies(candyType):\n",
    "    unique_candies = set()\n",
    "    for candy in candyType:\n",
    "        unique_candies.add(candy)\n",
    "    return min(len(unique_candies), len(candyType) // 2)\n",
    "candyType = [1, 1, 2, 2, 3, 3]\n",
    "print(maxCandies(candyType))"
   ]
  },
  {
   "cell_type": "code",
   "execution_count": 3,
   "id": "661700c8-1edd-47ac-a925-272bb0509fa5",
   "metadata": {},
   "outputs": [],
   "source": [
    "# ans 3\n",
    "def findLHS(nums):\n",
    "    count = {}\n",
    "    for num in nums:\n",
    "        if num not in count:\n",
    "            count[num] = 1\n",
    "        else:\n",
    "            count[num] += 1\n",
    "\n",
    "    max_length = 0\n",
    "    for num in nums:\n",
    "        if num + 1 in count:\n",
    "            max_length = max(max_length, count[num] + count[num + 1])\n",
    "\n",
    "    return max_length"
   ]
  },
  {
   "cell_type": "code",
   "execution_count": 4,
   "id": "10072fbc-6f5c-41d3-98d9-920c6eb7be57",
   "metadata": {},
   "outputs": [
    {
     "name": "stdout",
     "output_type": "stream",
     "text": [
      "5\n"
     ]
    }
   ],
   "source": [
    "nums = [1, 3, 2, 2, 5, 2, 3, 7]\n",
    "print(findLHS(nums))\n"
   ]
  },
  {
   "cell_type": "code",
   "execution_count": 6,
   "id": "3722518c-6d45-4ceb-9256-563c25797f98",
   "metadata": {},
   "outputs": [],
   "source": [
    "# ans 4\n",
    "def canPlaceFlowers(flowerbed, n):\n",
    "    count = 0\n",
    "    length = len(flowerbed)\n",
    "\n",
    "    for i in range(length):\n",
    "        if flowerbed[i] == 0 and (i == 0 or flowerbed[i - 1] == 0) and (i == length - 1 or flowerbed[i + 1] == 0):\n",
    "            flowerbed[i] = 1\n",
    "            count += 1\n",
    "\n",
    "    return count >= n\n"
   ]
  },
  {
   "cell_type": "code",
   "execution_count": 7,
   "id": "9ab65490-463a-4549-9b80-02a10517a706",
   "metadata": {},
   "outputs": [
    {
     "name": "stdout",
     "output_type": "stream",
     "text": [
      "True\n"
     ]
    }
   ],
   "source": [
    "flowerbed = [1, 0, 0, 0, 1]\n",
    "n = 1\n",
    "print(canPlaceFlowers(flowerbed, n))"
   ]
  },
  {
   "cell_type": "code",
   "execution_count": 8,
   "id": "03f78e3c-6a6a-4481-beb1-f7368ecd173f",
   "metadata": {},
   "outputs": [],
   "source": [
    "# ans 5\n",
    "def maximumProduct(nums):\n",
    "    nums.sort()\n",
    "    max_product = nums[-1] * nums[-2] * nums[-3]\n",
    "\n",
    "    if nums[0] < 0 and nums[1] < 0:\n",
    "        alt_product = nums[0] * nums[1] * nums[-1]\n",
    "        return max(max_product, alt_product)\n",
    "\n",
    "    return max_product"
   ]
  },
  {
   "cell_type": "code",
   "execution_count": 9,
   "id": "1ce223cb-1347-4b26-90a0-ef2708c93260",
   "metadata": {},
   "outputs": [
    {
     "name": "stdout",
     "output_type": "stream",
     "text": [
      "6\n"
     ]
    }
   ],
   "source": [
    "nums = [1, 2, 3]\n",
    "print(maximumProduct(nums))"
   ]
  },
  {
   "cell_type": "code",
   "execution_count": 10,
   "id": "92f9fde6-6794-47d2-81ea-bdf40be5e963",
   "metadata": {},
   "outputs": [],
   "source": [
    "# ans 6\n",
    "def search(nums, target):\n",
    "    left, right = 0, len(nums) - 1\n",
    "\n",
    "    while left <= right:\n",
    "        mid = (left + right) // 2\n",
    "        if nums[mid] == target:\n",
    "            return mid\n",
    "        elif nums[mid] < target:\n",
    "            left = mid + 1\n",
    "        else:\n",
    "            right = mid - 1\n",
    "\n",
    "    return -1"
   ]
  },
  {
   "cell_type": "code",
   "execution_count": 11,
   "id": "47b021e7-f37b-48d7-9049-a105a6db6a1f",
   "metadata": {},
   "outputs": [
    {
     "name": "stdout",
     "output_type": "stream",
     "text": [
      "4\n"
     ]
    }
   ],
   "source": [
    "nums = [-1, 0, 3, 5, 9, 12]\n",
    "target = 9\n",
    "print(search(nums, target))"
   ]
  },
  {
   "cell_type": "code",
   "execution_count": 12,
   "id": "2e763ea6-1ad6-4d3b-8593-e15b3b1c5ab0",
   "metadata": {},
   "outputs": [],
   "source": [
    "# ans 7\n",
    "def isMonotonic(nums):\n",
    "    is_increasing = True\n",
    "    is_decreasing = True\n",
    "\n",
    "    for i in range(1, len(nums)):\n",
    "        if nums[i] > nums[i - 1]:\n",
    "            is_decreasing = False\n",
    "        if nums[i] < nums[i - 1]:\n",
    "            is_increasing = False\n",
    "\n",
    "    return is_increasing or is_decreasing"
   ]
  },
  {
   "cell_type": "code",
   "execution_count": 13,
   "id": "99f18614-05f4-4b3c-83da-5f6437fb5ae3",
   "metadata": {},
   "outputs": [
    {
     "name": "stdout",
     "output_type": "stream",
     "text": [
      "True\n"
     ]
    }
   ],
   "source": [
    "nums = [1, 2, 2, 3] # Given\n",
    "\n",
    "result = isMonotonic(nums)\n",
    "print(result)"
   ]
  },
  {
   "cell_type": "code",
   "execution_count": 14,
   "id": "7bbc5192-a545-4503-8118-f419f309466d",
   "metadata": {},
   "outputs": [],
   "source": [
    "# ans 8\n",
    "def minimumScore(nums, k):\n",
    "    min_num = float('inf')\n",
    "    max_num = float('-inf')\n",
    "\n",
    "    for num in nums:\n",
    "        min_num = min(min_num, num)\n",
    "        max_num = max(max_num, num)\n",
    "\n",
    "    if min_num + k >= max_num - k:\n",
    "        return max_num - k - (min_num + k)\n",
    "    else:\n",
    "        return 0"
   ]
  },
  {
   "cell_type": "code",
   "execution_count": 15,
   "id": "e4bc1487-c124-4115-97d4-18b15d373cd4",
   "metadata": {},
   "outputs": [
    {
     "name": "stdout",
     "output_type": "stream",
     "text": [
      "0\n"
     ]
    }
   ],
   "source": [
    "nums = [1] # Given\n",
    "k = 0 # Given\n",
    "\n",
    "print(minimumScore(nums, k))"
   ]
  },
  {
   "cell_type": "code",
   "execution_count": null,
   "id": "d4004d52-45ee-4d39-87e2-1f1e65dc5967",
   "metadata": {},
   "outputs": [],
   "source": []
  }
 ],
 "metadata": {
  "kernelspec": {
   "display_name": "Python 3 (ipykernel)",
   "language": "python",
   "name": "python3"
  },
  "language_info": {
   "codemirror_mode": {
    "name": "ipython",
    "version": 3
   },
   "file_extension": ".py",
   "mimetype": "text/x-python",
   "name": "python",
   "nbconvert_exporter": "python",
   "pygments_lexer": "ipython3",
   "version": "3.10.8"
  }
 },
 "nbformat": 4,
 "nbformat_minor": 5
}
